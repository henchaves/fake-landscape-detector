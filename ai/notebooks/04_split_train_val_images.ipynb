{
 "cells": [
  {
   "cell_type": "code",
   "execution_count": 1,
   "metadata": {},
   "outputs": [],
   "source": [
    "import os\n",
    "import numpy as np\n",
    "from PIL import Image\n",
    "from tqdm import tqdm"
   ]
  },
  {
   "cell_type": "code",
   "execution_count": 2,
   "metadata": {},
   "outputs": [],
   "source": [
    "IMG_DATA_DIR = os.path.join('..', 'data', 'img')\n",
    "\n",
    "REAL_IMG_SOURCE_DIR = os.path.join(IMG_DATA_DIR, 'raw')\n",
    "FAKE_IMG_SOURCE_DIR = os.path.join(IMG_DATA_DIR, 'dreamlike-photoreal-2')\n",
    "\n",
    "IMG_TARGET_DIR = os.path.join(IMG_DATA_DIR, 'vit')\n",
    "LABEL_0 = \"real\"\n",
    "LABEL_1 = \"fake\"\n",
    "SIZE = 224"
   ]
  },
  {
   "cell_type": "code",
   "execution_count": 8,
   "metadata": {},
   "outputs": [],
   "source": [
    "number_of_images = len([img for img in os.listdir(REAL_IMG_SOURCE_DIR) if \".jpg\" in img])\n",
    "\n",
    "assert number_of_images == len([img for img in os.listdir(FAKE_IMG_SOURCE_DIR) if \".jpg\" in img])"
   ]
  },
  {
   "cell_type": "code",
   "execution_count": 11,
   "metadata": {},
   "outputs": [],
   "source": [
    "from sklearn.model_selection import train_test_split"
   ]
  },
  {
   "cell_type": "code",
   "execution_count": 15,
   "metadata": {},
   "outputs": [],
   "source": [
    "train_indexes, val_indexes = train_test_split(np.arange(number_of_images) + 1, test_size=0.2, random_state=42)\n",
    "train_imgs = [str(i).zfill(4) + \".jpg\" for i in train_indexes]\n",
    "val_imgs = [str(i).zfill(4) + \".jpg\" for i in val_indexes]"
   ]
  },
  {
   "cell_type": "code",
   "execution_count": 19,
   "metadata": {},
   "outputs": [],
   "source": [
    "def resize_image(input_image_path, output_image_path, size):\n",
    "    original_image = Image.open(input_image_path)\n",
    "    resized_image = original_image.resize((size, size), Image.Resampling.LANCZOS)\n",
    "    resized_image.save(output_image_path)"
   ]
  },
  {
   "cell_type": "code",
   "execution_count": 22,
   "metadata": {},
   "outputs": [],
   "source": [
    "os.makedirs(os.path.join(IMG_TARGET_DIR, \"train\", LABEL_0), exist_ok=True)\n",
    "os.makedirs(os.path.join(IMG_TARGET_DIR, \"train\", LABEL_1), exist_ok=True)\n",
    "os.makedirs(os.path.join(IMG_TARGET_DIR, \"val\", LABEL_0), exist_ok=True)\n",
    "os.makedirs(os.path.join(IMG_TARGET_DIR, \"val\", LABEL_1), exist_ok=True)"
   ]
  },
  {
   "cell_type": "code",
   "execution_count": 23,
   "metadata": {},
   "outputs": [
    {
     "name": "stderr",
     "output_type": "stream",
     "text": [
      "100%|██████████| 4319/4319 [01:06<00:00, 64.74it/s]\n"
     ]
    }
   ],
   "source": [
    "for filename in tqdm(os.listdir(REAL_IMG_SOURCE_DIR)):\n",
    "    input_path = os.path.join(REAL_IMG_SOURCE_DIR, filename)\n",
    "    if filename in train_imgs:\n",
    "        output_path = os.path.join(IMG_TARGET_DIR, \"train\", LABEL_0, filename)\n",
    "    else:\n",
    "        output_path = os.path.join(IMG_TARGET_DIR, \"val\", LABEL_0, filename)\n",
    "    resize_image(input_path, output_path, SIZE)"
   ]
  },
  {
   "cell_type": "code",
   "execution_count": 27,
   "metadata": {},
   "outputs": [
    {
     "name": "stderr",
     "output_type": "stream",
     "text": [
      "100%|██████████| 4319/4319 [00:49<00:00, 87.93it/s]\n"
     ]
    }
   ],
   "source": [
    "for filename in tqdm(os.listdir(FAKE_IMG_SOURCE_DIR)):\n",
    "    input_path = os.path.join(FAKE_IMG_SOURCE_DIR, filename)\n",
    "    if filename in train_imgs:\n",
    "        output_path = os.path.join(IMG_TARGET_DIR, \"train\", LABEL_1, filename)\n",
    "    else:\n",
    "        output_path = os.path.join(IMG_TARGET_DIR, \"val\", LABEL_1, filename)\n",
    "    resize_image(input_path, output_path, SIZE)"
   ]
  }
 ],
 "metadata": {
  "kernelspec": {
   "display_name": ".venv",
   "language": "python",
   "name": "python3"
  },
  "language_info": {
   "codemirror_mode": {
    "name": "ipython",
    "version": 3
   },
   "file_extension": ".py",
   "mimetype": "text/x-python",
   "name": "python",
   "nbconvert_exporter": "python",
   "pygments_lexer": "ipython3",
   "version": "3.11.6"
  }
 },
 "nbformat": 4,
 "nbformat_minor": 2
}
