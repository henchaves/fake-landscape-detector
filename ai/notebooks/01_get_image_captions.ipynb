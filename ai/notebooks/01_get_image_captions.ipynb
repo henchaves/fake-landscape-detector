{
 "cells": [
  {
   "cell_type": "code",
   "execution_count": 1,
   "metadata": {},
   "outputs": [
    {
     "name": "stderr",
     "output_type": "stream",
     "text": [
      "/Users/hchaves/Github/IMT/fake-landscape-detector/ai/.venv/lib/python3.11/site-packages/tqdm/auto.py:21: TqdmWarning: IProgress not found. Please update jupyter and ipywidgets. See https://ipywidgets.readthedocs.io/en/stable/user_install.html\n",
      "  from .autonotebook import tqdm as notebook_tqdm\n"
     ]
    }
   ],
   "source": [
    "import os\n",
    "from PIL import Image\n",
    "from transformers import BlipProcessor, BlipForConditionalGeneration\n",
    "from tqdm import tqdm\n",
    "import concurrent.futures\n",
    "import json"
   ]
  },
  {
   "cell_type": "code",
   "execution_count": 2,
   "metadata": {},
   "outputs": [],
   "source": [
    "processor = BlipProcessor.from_pretrained(\"Salesforce/blip-image-captioning-large\")\n",
    "model = BlipForConditionalGeneration.from_pretrained(\"Salesforce/blip-image-captioning-large\")"
   ]
  },
  {
   "cell_type": "code",
   "execution_count": 3,
   "metadata": {},
   "outputs": [],
   "source": [
    "RAW_DATA_PATH = \"../data/img/raw\"\n",
    "RAW_IMAGE_FILENAMES = os.listdir(RAW_DATA_PATH)\n",
    "TEXT_CONDITION = \"a realistic photo of\""
   ]
  },
  {
   "cell_type": "code",
   "execution_count": 5,
   "metadata": {},
   "outputs": [],
   "source": [
    "def get_caption(raw_image_filename):\n",
    "    raw_image_path = os.path.join(RAW_DATA_PATH, raw_image_filename)\n",
    "    raw_image = Image.open(raw_image_path).convert(\"RGB\")\n",
    "    inputs = processor(raw_image, TEXT_CONDITION, return_tensors=\"pt\")\n",
    "    out = model.generate(**inputs)\n",
    "    caption = processor.decode(out[0], skip_special_tokens=True)\n",
    "    return raw_image_filename, caption"
   ]
  },
  {
   "cell_type": "code",
   "execution_count": 6,
   "metadata": {},
   "outputs": [
    {
     "name": "stderr",
     "output_type": "stream",
     "text": [
      "Processing Images:   0%|          | 0/100 [00:00<?, ?it/s]/Users/hchaves/Github/IMT/fake-landscape-detector/ai/.venv/lib/python3.11/site-packages/transformers/generation/utils.py:1273: UserWarning: Using the model-agnostic default `max_length` (=20) to control the generation length. We recommend setting `max_new_tokens` to control the maximum length of the generation.\n",
      "  warnings.warn(\n",
      "Processing Images:   4%|▍         | 4/100 [00:03<01:01,  1.57it/s]/Users/hchaves/Github/IMT/fake-landscape-detector/ai/.venv/lib/python3.11/site-packages/transformers/generation/utils.py:1273: UserWarning: Using the model-agnostic default `max_length` (=20) to control the generation length. We recommend setting `max_new_tokens` to control the maximum length of the generation.\n",
      "  warnings.warn(\n",
      "Processing Images: 100%|██████████| 100/100 [01:09<00:00,  1.43it/s]\n"
     ]
    }
   ],
   "source": [
    "image_captions = {}\n",
    "NUM_THREADS = 5\n",
    "\n",
    "with concurrent.futures.ThreadPoolExecutor(max_workers=NUM_THREADS) as executor:\n",
    "    # Start the load operations and mark each future with its URL\n",
    "    future_to_filename = {executor.submit(get_caption, filename): filename for filename in RAW_IMAGE_FILENAMES[:100]}\n",
    "    for future in tqdm(concurrent.futures.as_completed(future_to_filename), total=len(future_to_filename), desc='Processing Images'):\n",
    "        filename = future_to_filename[future]\n",
    "        try:\n",
    "            image_captions[filename] = future.result()[1]\n",
    "        except Exception as exc:\n",
    "            print(f'An exception occurred while processing {filename}: {exc}')"
   ]
  },
  {
   "cell_type": "code",
   "execution_count": 7,
   "metadata": {},
   "outputs": [],
   "source": [
    "CAPTIONS_DATA_DIR = \"../data/json\"\n",
    "CAPTIONS_FILENAME = \"image_captions_sample_100.json\"\n",
    "CAPTIONS_PATH = os.path.join(CAPTIONS_DATA_DIR, CAPTIONS_FILENAME)\n",
    "\n",
    "with open(CAPTIONS_PATH, 'w') as f:\n",
    "    json.dump(image_captions, f)"
   ]
  }
 ],
 "metadata": {
  "kernelspec": {
   "display_name": "Python 3",
   "language": "python",
   "name": "python3"
  },
  "language_info": {
   "codemirror_mode": {
    "name": "ipython",
    "version": 3
   },
   "file_extension": ".py",
   "mimetype": "text/x-python",
   "name": "python",
   "nbconvert_exporter": "python",
   "pygments_lexer": "ipython3",
   "version": "3.11.6"
  }
 },
 "nbformat": 4,
 "nbformat_minor": 2
}
