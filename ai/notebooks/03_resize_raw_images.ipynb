{
 "cells": [
  {
   "cell_type": "code",
   "execution_count": null,
   "metadata": {},
   "outputs": [],
   "source": [
    "from PIL import Image\n",
    "import os\n",
    "from tqdm import tqdm"
   ]
  },
  {
   "cell_type": "code",
   "execution_count": null,
   "metadata": {},
   "outputs": [],
   "source": [
    "IMG_DATA_DIR = os.path.join('..', 'data', 'img')\n",
    "RAW_IMG_DIR = os.path.join(IMG_DATA_DIR, 'raw')\n",
    "RESIZED_IMG_DIR = os.path.join(IMG_DATA_DIR, 'raw-resized')\n",
    "size = 1024"
   ]
  },
  {
   "cell_type": "code",
   "execution_count": null,
   "metadata": {},
   "outputs": [],
   "source": [
    "def resize_image(input_image_path, output_image_path, size):\n",
    "    original_image = Image.open(input_image_path)\n",
    "    resized_image = original_image.resize((size, size), Image.Resampling.LANCZOS)\n",
    "    resized_image.save(output_image_path)"
   ]
  },
  {
   "cell_type": "code",
   "execution_count": null,
   "metadata": {},
   "outputs": [],
   "source": [
    "for filename in tqdm(os.listdir(RAW_IMG_DIR)):\n",
    "    if filename.endswith(\".jpg\"):\n",
    "        input_image_path = os.path.join(RAW_IMG_DIR, filename)\n",
    "        output_image_path = os.path.join(RESIZED_IMG_DIR, filename)\n",
    "        resize_image(input_image_path, output_image_path, size)"
   ]
  }
 ],
 "metadata": {
  "kernelspec": {
   "display_name": ".venv",
   "language": "python",
   "name": "python3"
  },
  "language_info": {
   "codemirror_mode": {
    "name": "ipython",
    "version": 3
   },
   "file_extension": ".py",
   "mimetype": "text/x-python",
   "name": "python",
   "nbconvert_exporter": "python",
   "pygments_lexer": "ipython3",
   "version": "3.11.6"
  }
 },
 "nbformat": 4,
 "nbformat_minor": 2
}
