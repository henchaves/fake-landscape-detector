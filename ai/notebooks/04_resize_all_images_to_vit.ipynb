{
 "cells": [
  {
   "cell_type": "code",
   "execution_count": 1,
   "metadata": {},
   "outputs": [],
   "source": [
    "from PIL import Image\n",
    "import os\n",
    "from tqdm import tqdm"
   ]
  },
  {
   "cell_type": "code",
   "execution_count": 2,
   "metadata": {},
   "outputs": [],
   "source": [
    "def resize_image(input_image_path, output_image_path, size):\n",
    "    original_image = Image.open(input_image_path)\n",
    "    resized_image = original_image.resize((size, size), Image.Resampling.LANCZOS)\n",
    "    resized_image.save(output_image_path)"
   ]
  },
  {
   "cell_type": "code",
   "execution_count": 5,
   "metadata": {},
   "outputs": [],
   "source": [
    "IMG_DATA_DIR = os.path.join('..', 'data', 'img')\n",
    "\n",
    "REAL_IMG_SOURCE_DIR = os.path.join(IMG_DATA_DIR, 'raw')\n",
    "REAL_IMG_TARGET_DIR = os.path.join(IMG_DATA_DIR, 'vit', 'real')\n",
    "\n",
    "FAKE_IMG_SOURCE_DIR = os.path.join(IMG_DATA_DIR, 'dreamlike-photoreal-2')\n",
    "FAKE_IMG_TARGET_DIR = os.path.join(IMG_DATA_DIR, 'vit', 'fake')\n",
    "\n",
    "SIZE = 224"
   ]
  },
  {
   "cell_type": "code",
   "execution_count": 7,
   "metadata": {},
   "outputs": [
    {
     "name": "stderr",
     "output_type": "stream",
     "text": [
      "100%|██████████| 4319/4319 [00:45<00:00, 95.73it/s] \n"
     ]
    }
   ],
   "source": [
    "# # Resize real images\n",
    "# for filename in tqdm(os.listdir(REAL_IMG_SOURCE_DIR)):\n",
    "#     input_path = os.path.join(REAL_IMG_SOURCE_DIR, filename)\n",
    "#     output_path = os.path.join(REAL_IMG_TARGET_DIR, filename)\n",
    "#     resize_image(input_path, output_path, SIZE)\n",
    "\n",
    "# Resize fake images\n",
    "for filename in tqdm(os.listdir(FAKE_IMG_SOURCE_DIR)):\n",
    "    input_path = os.path.join(FAKE_IMG_SOURCE_DIR, filename)\n",
    "    output_path = os.path.join(FAKE_IMG_TARGET_DIR, filename)\n",
    "    resize_image(input_path, output_path, SIZE)"
   ]
  }
 ],
 "metadata": {
  "kernelspec": {
   "display_name": ".venv",
   "language": "python",
   "name": "python3"
  },
  "language_info": {
   "codemirror_mode": {
    "name": "ipython",
    "version": 3
   },
   "file_extension": ".py",
   "mimetype": "text/x-python",
   "name": "python",
   "nbconvert_exporter": "python",
   "pygments_lexer": "ipython3",
   "version": "3.11.6"
  }
 },
 "nbformat": 4,
 "nbformat_minor": 2
}
